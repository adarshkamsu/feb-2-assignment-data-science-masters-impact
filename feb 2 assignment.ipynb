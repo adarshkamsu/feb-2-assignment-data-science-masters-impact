{
 "cells": [
  {
   "cell_type": "markdown",
   "id": "ead979ff-be54-4020-8384-1014f38cba63",
   "metadata": {},
   "source": [
    "#### Q1. What are the characteristics of the tuples? Is tuple immutable?"
   ]
  },
  {
   "cell_type": "code",
   "execution_count": 1,
   "id": "0370a5ac-20e0-4f4a-a162-ed989a13974d",
   "metadata": {},
   "outputs": [],
   "source": [
    " ## tuples are immutable - elements cannot be changed ,ordered - it maintains a specific order , iterable , indexable , heterogeneous - it contains different datatypes , lightweight \n",
    " ## yes tuple is immutable.\n",
    "    "
   ]
  },
  {
   "cell_type": "markdown",
   "id": "ac43b428-993e-4b20-b056-8fa60792c457",
   "metadata": {},
   "source": [
    "#### Q2. What are the two tuple methods in python? Give an example of each method. Give a reason why\n",
    "#### tuples have only two in-built methods as compared to Lists."
   ]
  },
  {
   "cell_type": "code",
   "execution_count": 5,
   "id": "0c268d04-dd05-482a-9e71-58c803ae384a",
   "metadata": {},
   "outputs": [],
   "source": [
    "## The two tuple methods in python are   1) count() , 2) index() "
   ]
  },
  {
   "cell_type": "code",
   "execution_count": 8,
   "id": "eafaed3d-5ecb-46f7-baf0-d4149b64a996",
   "metadata": {},
   "outputs": [
    {
     "data": {
      "text/plain": [
       "2"
      ]
     },
     "execution_count": 8,
     "metadata": {},
     "output_type": "execute_result"
    }
   ],
   "source": [
    "l= (1,2,3,4,5,6,6)      # count gives the same number of elements in a tuple.\n",
    "l.count(6)"
   ]
  },
  {
   "cell_type": "code",
   "execution_count": 12,
   "id": "dc51fd0f-69e1-4429-b46e-332a876db2c6",
   "metadata": {},
   "outputs": [
    {
     "data": {
      "text/plain": [
       "0"
      ]
     },
     "execution_count": 12,
     "metadata": {},
     "output_type": "execute_result"
    }
   ],
   "source": [
    "l.index(1)               # index function gives the index of the entered input element"
   ]
  },
  {
   "cell_type": "code",
   "execution_count": 13,
   "id": "242e8bfb-c217-4470-8162-d734af5f4b6b",
   "metadata": {},
   "outputs": [],
   "source": [
    "## tuples have only two in-built methods as compared to list because : tuples are immutable means once created they never be changed.this limits the need for a large number of in-built methoods compared to lists."
   ]
  },
  {
   "cell_type": "code",
   "execution_count": null,
   "id": "87ae02a9-3c84-4b3b-8272-c0840a7d5415",
   "metadata": {},
   "outputs": [],
   "source": []
  },
  {
   "cell_type": "markdown",
   "id": "047624db-a627-4c94-8615-4cfe5ae97f33",
   "metadata": {},
   "source": [
    "####  Q3. Which collection datatypes in python do not allow duplicate items? Write a code using a set to remove\n",
    "####      duplicates from the given list."
   ]
  },
  {
   "cell_type": "code",
   "execution_count": 36,
   "id": "323fdd8a-2a76-4768-8b25-c7a4ca06a795",
   "metadata": {},
   "outputs": [],
   "source": [
    "list = [1, 1, 1, 2, 1, 3, 1, 4, 2, 1, 2, 2, 2, 3, 2, 4, 3, 1, 3, 2, 3, 3, 3, 4, 4, 1, 4, 2, 4, 3, 4, 4]"
   ]
  },
  {
   "cell_type": "code",
   "execution_count": 37,
   "id": "6892762e-9e32-441f-8b64-fc59d4542195",
   "metadata": {},
   "outputs": [],
   "source": [
    "##  sets are the datatypes which does not allow the duplicate items in python.\n",
    "def remove_duplicates(list):\n",
    "    n = set()\n",
    "    for i in list:\n",
    "        n.add(i)\n",
    "    return n    \n",
    "    \n",
    "    "
   ]
  },
  {
   "cell_type": "code",
   "execution_count": 38,
   "id": "d99e1a7a-a7e1-4277-96b9-ebe6e0c64725",
   "metadata": {},
   "outputs": [
    {
     "data": {
      "text/plain": [
       "{1, 2, 3, 4}"
      ]
     },
     "execution_count": 38,
     "metadata": {},
     "output_type": "execute_result"
    }
   ],
   "source": [
    "remove_duplicates(list)"
   ]
  },
  {
   "cell_type": "markdown",
   "id": "928e4f31-85f9-438a-aee2-dc3107b278d6",
   "metadata": {},
   "source": [
    "\n",
    "#### Q4. Explain the difference between the union() and update() methods for a set. Give an example of\n",
    "####     each method."
   ]
  },
  {
   "cell_type": "code",
   "execution_count": 1,
   "id": "7d82956c-6955-40bb-81ce-22f2d19b43a4",
   "metadata": {},
   "outputs": [],
   "source": [
    " ##   union()  :  it returns a new containing all the elements from the original set as all as from the specified sets."
   ]
  },
  {
   "cell_type": "code",
   "execution_count": 11,
   "id": "bcd869b0-64b1-4542-b0fc-624feb632a37",
   "metadata": {},
   "outputs": [
    {
     "name": "stdout",
     "output_type": "stream",
     "text": [
      "{1, 2, 3, 4, 5, 6, 7}\n"
     ]
    }
   ],
   "source": [
    "## union() _ example\n",
    "\n",
    "\n",
    "set1 = {1,2,3}\n",
    "set2 = {3,4,5}\n",
    "set3 = {5,6,7}\n",
    "\n",
    "new_set = set2.union(set3 , set1)\n",
    "print(new_set)"
   ]
  },
  {
   "cell_type": "code",
   "execution_count": 12,
   "id": "654fb95b-d0ff-4f38-9e43-31ad5f6a7e79",
   "metadata": {},
   "outputs": [],
   "source": [
    "\n",
    "### update()   :  it modifies the original set by adding the all the elements from the specifed sets."
   ]
  },
  {
   "cell_type": "code",
   "execution_count": 13,
   "id": "a029e0e7-69cb-40c9-bd62-3c0d4cc7eec8",
   "metadata": {},
   "outputs": [
    {
     "name": "stdout",
     "output_type": "stream",
     "text": [
      "{1, 2, 3, 4, 5}\n"
     ]
    }
   ],
   "source": [
    "##   update() __ example \n",
    "\n",
    "\n",
    "set1 = {1,2,3}\n",
    "set2 = {3,4,5}\n",
    "set3 = {5,6,7} \n",
    "\n",
    "set1.update(set2)\n",
    "print(set1)"
   ]
  },
  {
   "cell_type": "code",
   "execution_count": null,
   "id": "f6b32a84-1e24-4251-9e38-eb98028843ee",
   "metadata": {},
   "outputs": [],
   "source": []
  },
  {
   "cell_type": "markdown",
   "id": "b0b12f14-9bb5-4087-8213-2732d42136f2",
   "metadata": {},
   "source": [
    "####  Q5. What is a dictionary? Give an example. Also, state whether a dictionary is ordered or unordered.\n"
   ]
  },
  {
   "cell_type": "code",
   "execution_count": 1,
   "id": "9d34726a-64d5-47ba-9a88-5660c648b452",
   "metadata": {},
   "outputs": [],
   "source": [
    "#  A dictionary is a set of key_value pairs that allow you to store and retrive data based on the unikye key .\n",
    "\n",
    "# exmpl : \n",
    "\n",
    "s1 = {\"king\" : \"martinluther\" , \"queen\" : \"eliziabeth\" , \"minister\" : \"trump\"}\n"
   ]
  },
  {
   "cell_type": "code",
   "execution_count": 29,
   "id": "40c72fcf-eb23-45e3-bc99-5165a89e7258",
   "metadata": {},
   "outputs": [
    {
     "data": {
      "text/plain": [
       "'martinluther'"
      ]
     },
     "execution_count": 29,
     "metadata": {},
     "output_type": "execute_result"
    }
   ],
   "source": [
    "s1[\"king\" ]"
   ]
  },
  {
   "cell_type": "code",
   "execution_count": 2,
   "id": "5e752286-c4fa-4a29-a92d-ad1799922bb2",
   "metadata": {},
   "outputs": [
    {
     "data": {
      "text/plain": [
       "dict_keys(['king', 'queen', 'minister'])"
      ]
     },
     "execution_count": 2,
     "metadata": {},
     "output_type": "execute_result"
    }
   ],
   "source": [
    "s1.keys()"
   ]
  },
  {
   "cell_type": "code",
   "execution_count": null,
   "id": "6a735f6a-cd21-4f65-991f-55fdcd98ac1a",
   "metadata": {},
   "outputs": [],
   "source": []
  },
  {
   "cell_type": "code",
   "execution_count": 36,
   "id": "25c90433-77a9-4bab-8691-72b9338e1e75",
   "metadata": {},
   "outputs": [],
   "source": [
    "# dictionary is a unordered pair where it the elements are not stored in a specific order. "
   ]
  },
  {
   "cell_type": "code",
   "execution_count": null,
   "id": "0eba47c1-d85c-44ef-a89f-c2144eb0386a",
   "metadata": {},
   "outputs": [],
   "source": []
  },
  {
   "cell_type": "markdown",
   "id": "9976f379-3324-467b-8275-55bddd83d3ca",
   "metadata": {},
   "source": [
    "#### Q6. Can we create a nested dictionary? If so, please give an example by creating a simple one-level\n",
    "####     nested dictionary."
   ]
  },
  {
   "cell_type": "code",
   "execution_count": 11,
   "id": "6aca496d-0ef4-4c53-b79a-1ad5067e3218",
   "metadata": {},
   "outputs": [],
   "source": [
    "# nested dictionary - is a dictionary inside a dictionary.\n",
    "\n",
    "# exmp :  \n",
    "\n",
    "## simple one-level nested dictionary\n",
    "sets = {\n",
    "    \"king\" : \"queen\",\n",
    "    \"Lion\" : \"tiger\",\n",
    "    \"lst\" : {\"ball\" : \"cricket\",\n",
    "             \"bat\" : \"reebok\" ,\n",
    "             \"kit\" : \"MRF\"}\n",
    "       }"
   ]
  },
  {
   "cell_type": "code",
   "execution_count": 13,
   "id": "850ebfda-a8f5-48e7-967b-06ac3dbf9f61",
   "metadata": {},
   "outputs": [
    {
     "data": {
      "text/plain": [
       "'reebok'"
      ]
     },
     "execution_count": 13,
     "metadata": {},
     "output_type": "execute_result"
    }
   ],
   "source": [
    "sets[\"lst\"][\"bat\"]"
   ]
  },
  {
   "cell_type": "code",
   "execution_count": null,
   "id": "3c9c6ef5-ccf0-405e-b280-867ac1e1eda4",
   "metadata": {},
   "outputs": [],
   "source": []
  },
  {
   "cell_type": "markdown",
   "id": "fd03492a-bbe0-4719-aca6-0aeb77e2f276",
   "metadata": {},
   "source": [
    "##### Q7. Using setdefault() method, create key named topics in the given dictionary and also add the value of \n",
    "##### the key as this list ['Python', 'Machine Learning’, 'Deep Learning']\n",
    "##### dict1 = {'language' : 'Python', 'course': 'Data Science Masters'}\n"
   ]
  },
  {
   "cell_type": "code",
   "execution_count": 3,
   "id": "fb4752bc-0d13-4b5b-bd4d-ce4dd5d7705d",
   "metadata": {},
   "outputs": [],
   "source": [
    "##  setdefault() method returns the value of the item with a specified key. if the the does not exist ,it inserts into th given dictionary."
   ]
  },
  {
   "cell_type": "code",
   "execution_count": 10,
   "id": "e2fa9c37-35a8-4e2d-a9ec-1458af30e3a1",
   "metadata": {},
   "outputs": [
    {
     "data": {
      "text/plain": [
       "['Python', 'Machine Learning', 'Deep learing']"
      ]
     },
     "execution_count": 10,
     "metadata": {},
     "output_type": "execute_result"
    }
   ],
   "source": [
    "dict1 = {'language' : 'Python', 'course': 'Data Science Masters'}\n",
    "dict1.setdefault('topics' , ['Python', 'Machine Learning', 'Deep learing'])"
   ]
  },
  {
   "cell_type": "code",
   "execution_count": 11,
   "id": "f35d2225-9a5b-49c7-94c2-f948c7fd4edf",
   "metadata": {},
   "outputs": [
    {
     "data": {
      "text/plain": [
       "{'language': 'Python',\n",
       " 'course': 'Data Science Masters',\n",
       " 'topics': ['Python', 'Machine Learning', 'Deep learing']}"
      ]
     },
     "execution_count": 11,
     "metadata": {},
     "output_type": "execute_result"
    }
   ],
   "source": [
    "dict1"
   ]
  },
  {
   "cell_type": "code",
   "execution_count": null,
   "id": "3b92496a-fd0c-4a6f-bafd-fdc5ee11f64d",
   "metadata": {},
   "outputs": [],
   "source": []
  },
  {
   "cell_type": "markdown",
   "id": "e0f1b956-bc91-44fc-a4fc-57c68c7d305b",
   "metadata": {},
   "source": [
    "#### Q8. What are the three view objects in dictionaries? Use the three in-built methods in python to display \n",
    "#### these three view objects for the given dictionary.\n",
    "#### dict1 = {'Sport': 'Cricket' , 'Teams': ['India', 'Australia', 'England', 'South Africa', 'Sri Lanka', 'New Zealand']}"
   ]
  },
  {
   "cell_type": "code",
   "execution_count": null,
   "id": "a792d125-026b-497e-9f4c-992329aef7a2",
   "metadata": {},
   "outputs": [],
   "source": []
  },
  {
   "cell_type": "code",
   "execution_count": 13,
   "id": "f2a79be6-ddbc-4290-8b66-efad6ee0499d",
   "metadata": {},
   "outputs": [],
   "source": [
    "# In Python, dictionaries have three types of view objects:\n",
    "\n",
    "# dict_keys: A view object that contains the keys of the dictionary.\n",
    "# dict_values: A view object that contains the values of the dictionary.\n",
    "# dict_items: A view object that contains the key-value pairs of the dictionary as tuples."
   ]
  },
  {
   "cell_type": "code",
   "execution_count": 17,
   "id": "3ff2ddd0-f15c-45b2-b6c5-61d309c60fe5",
   "metadata": {},
   "outputs": [
    {
     "name": "stdout",
     "output_type": "stream",
     "text": [
      "dict_keys(['language', 'course', 'topics'])\n"
     ]
    }
   ],
   "source": [
    "print(dict1.keys())"
   ]
  },
  {
   "cell_type": "code",
   "execution_count": 15,
   "id": "f19e90fb-7b1c-45d5-a743-43d0ff9e5bd2",
   "metadata": {},
   "outputs": [
    {
     "data": {
      "text/plain": [
       "dict_values(['Python', 'Data Science Masters', ['Python', 'Machine Learning', 'Deep learing']])"
      ]
     },
     "execution_count": 15,
     "metadata": {},
     "output_type": "execute_result"
    }
   ],
   "source": [
    "dict1.values()"
   ]
  },
  {
   "cell_type": "code",
   "execution_count": 16,
   "id": "8a49e68d-a6e2-4155-89e0-f9f2d7ae60ec",
   "metadata": {},
   "outputs": [
    {
     "data": {
      "text/plain": [
       "dict_items([('language', 'Python'), ('course', 'Data Science Masters'), ('topics', ['Python', 'Machine Learning', 'Deep learing'])])"
      ]
     },
     "execution_count": 16,
     "metadata": {},
     "output_type": "execute_result"
    }
   ],
   "source": [
    "dict1.items()"
   ]
  },
  {
   "cell_type": "code",
   "execution_count": null,
   "id": "f68deee9-8e44-40ee-a45a-645fe8b80d2c",
   "metadata": {},
   "outputs": [],
   "source": []
  }
 ],
 "metadata": {
  "kernelspec": {
   "display_name": "Python 3 (ipykernel)",
   "language": "python",
   "name": "python3"
  },
  "language_info": {
   "codemirror_mode": {
    "name": "ipython",
    "version": 3
   },
   "file_extension": ".py",
   "mimetype": "text/x-python",
   "name": "python",
   "nbconvert_exporter": "python",
   "pygments_lexer": "ipython3",
   "version": "3.10.8"
  }
 },
 "nbformat": 4,
 "nbformat_minor": 5
}
